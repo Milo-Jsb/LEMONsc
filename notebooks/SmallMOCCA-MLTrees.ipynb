{
 "cells": [
  {
   "cell_type": "markdown",
   "id": "ea2ced09",
   "metadata": {},
   "source": [
    "***\n",
    "# **Small-MOCCA: MLTrees Regression Training**\n",
    "\n",
    "***\n",
    "Feature exploration, optmization and training of traditional ML models for $M_{MMO}$ estimation.  \n",
    "\n",
    "> Programs by J.Saavedra-Bastidas.\n",
    "***"
   ]
  },
  {
   "cell_type": "markdown",
   "id": "9a88a8c6",
   "metadata": {},
   "source": []
  }
 ],
 "metadata": {
  "language_info": {
   "name": "python"
  }
 },
 "nbformat": 4,
 "nbformat_minor": 5
}
